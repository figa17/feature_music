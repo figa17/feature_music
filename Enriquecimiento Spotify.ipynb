{
 "cells": [
  {
   "cell_type": "code",
   "execution_count": null,
   "metadata": {
    "collapsed": true
   },
   "outputs": [],
   "source": [
    "import pandas as pd \n",
    "import spotipy \n",
    "import spotipy.util as sp_util\n",
    "from spotipy.oauth2 import SpotifyClientCredentials \n",
    "import seaborn as sb\n",
    "from dotenv import load_dotenv\n",
    "from os.path import join, dirname\n",
    "import os\n",
    "\n",
    "%matplotlib inline\n",
    "dotenv_path = '.env'\n",
    "load_dotenv(dotenv_path)\n",
    "\n",
    "cid = os.environ.get(\"cid\")\n",
    "secret = os.environ.get(\"secret\")\n",
    "user_id= os.environ.get(\"user_id\")"
   ]
  },
  {
   "cell_type": "code",
   "execution_count": null,
   "metadata": {
    "collapsed": true
   },
   "outputs": [],
   "source": [
    "sp = spotipy.Spotify() \n",
    "client_credentials_manager = SpotifyClientCredentials(client_id=cid, client_secret=secret,) \n",
    "sp = spotipy.Spotify(client_credentials_manager=client_credentials_manager) \n",
    "sp.trace=False "
   ]
  },
  {
   "cell_type": "markdown",
   "metadata": {},
   "source": [
    "Leo el archivo generado con los obtención desde spotify y elimino la columna del índice"
   ]
  },
  {
   "cell_type": "code",
   "execution_count": null,
   "metadata": {
    "scrolled": true
   },
   "outputs": [],
   "source": [
    "df = pd.read_csv('data/audio_features3.csv')\n",
    "df.drop('Unnamed: 0', axis=1, inplace=True)\n",
    "df.head()"
   ]
  },
  {
   "cell_type": "markdown",
   "metadata": {},
   "source": [
    "Separo el nombre del artista y el nombre de la canción en dos columnas nuevas"
   ]
  },
  {
   "cell_type": "code",
   "execution_count": null,
   "metadata": {
    "collapsed": true
   },
   "outputs": [],
   "source": [
    "df['artist'], df['song'] = df['name'].str.split('|', 1).str\n",
    "df.drop('name', axis=1, inplace=True)\n"
   ]
  },
  {
   "cell_type": "markdown",
   "metadata": {},
   "source": [
    "Trabajo sobre los artistas para idetificarlos y obtener las canciones de cada artista desde spotify"
   ]
  },
  {
   "cell_type": "code",
   "execution_count": null,
   "metadata": {},
   "outputs": [],
   "source": [
    "df_aux = df[df['artist'] != '']\n",
    "artist = df_aux.artist.unique()\n",
    "print('cantidad artistas: {}'.format(len(artist)))"
   ]
  },
  {
   "cell_type": "markdown",
   "metadata": {},
   "source": [
    "Busco canciones de cada artista encontrado"
   ]
  },
  {
   "cell_type": "code",
   "execution_count": null,
   "metadata": {},
   "outputs": [],
   "source": [
    "df_artist = pd.DataFrame({},columns=['id', 'artist', 'name'])\n",
    "\n",
    "for i in artist:\n",
    "    results = sp.search(q=i, limit=40)\n",
    "    for t in results['tracks']['items']:\n",
    "        aux = pd.DataFrame(data=[[t['id'], i, t['name'], t['duration_ms'], t['popularity'], t['explicit']]], columns=['id', 'artist', 'name', 'duration','popularity','explicit'])\n",
    "        df_artist = df_artist.append(aux)\n",
    "\n",
    "len(df_artist)"
   ]
  },
  {
   "cell_type": "code",
   "execution_count": null,
   "metadata": {
    "collapsed": true
   },
   "outputs": [],
   "source": [
    "df_artist.set_index('id', inplace=True)\n",
    "df_artist.to_csv('data/songs_artist_name.csv',sep=';')"
   ]
  },
  {
   "cell_type": "markdown",
   "metadata": {},
   "source": [
    "Ahora que tengo 14mil canciones obtengo sus feature"
   ]
  },
  {
   "cell_type": "code",
   "execution_count": null,
   "metadata": {},
   "outputs": [],
   "source": [
    "#acepta un array con ids\n",
    "df_artist = pd.read_csv('data/songs_artist_name.csv',sep=';')\n",
    "#df_artist.drop('Unnamed: 0',axis=1, inplace=True)\n",
    "#df_artist.set_index('id', inplace=True)\n",
    "df_artist.head()\n",
    "#sp.audio_features(ids)"
   ]
  },
  {
   "cell_type": "code",
   "execution_count": null,
   "metadata": {},
   "outputs": [],
   "source": [
    "id = '7rEstJLdWhDSoh84cj5bqb'\n",
    "\n",
    "feat = sp.audio_features(tracks=id)\n",
    "\n",
    "feat\n",
    "#df_artist.index.values.tolist()"
   ]
  }
 ],
 "metadata": {
  "kernelspec": {
   "display_name": "Python 3",
   "language": "python",
   "name": "python3"
  },
  "language_info": {
   "codemirror_mode": {
    "name": "ipython",
    "version": 3
   },
   "file_extension": ".py",
   "mimetype": "text/x-python",
   "name": "python",
   "nbconvert_exporter": "python",
   "pygments_lexer": "ipython3",
   "version": "3.6.2"
  }
 },
 "nbformat": 4,
 "nbformat_minor": 2
}
