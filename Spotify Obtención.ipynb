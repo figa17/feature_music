{
 "cells": [
  {
   "cell_type": "code",
   "execution_count": 1,
   "metadata": {
    "collapsed": true
   },
   "outputs": [],
   "source": [
    "import pandas as pd \n",
    "import spotipy \n",
    "import spotipy.util as sp_util\n",
    "from spotipy.oauth2 import SpotifyClientCredentials \n",
    "import seaborn as sb\n",
    "from dotenv import load_dotenv\n",
    "from os.path import join, dirname\n",
    "import os\n",
    "\n",
    "%matplotlib inline\n",
    "dotenv_path = '.env'\n",
    "load_dotenv(dotenv_path)\n",
    "\n",
    "cid = os.environ.get(\"cid\")\n",
    "secret = os.environ.get(\"secret\")\n",
    "user_id= os.environ.get(\"user_id\")"
   ]
  },
  {
   "cell_type": "code",
   "execution_count": 2,
   "metadata": {
    "collapsed": true
   },
   "outputs": [],
   "source": [
    "sp = spotipy.Spotify() \n",
    "client_credentials_manager = SpotifyClientCredentials(client_id=cid, client_secret=secret,) \n",
    "sp = spotipy.Spotify(client_credentials_manager=client_credentials_manager) \n",
    "sp.trace=False "
   ]
  },
  {
   "cell_type": "code",
   "execution_count": 5,
   "metadata": {},
   "outputs": [
    {
     "name": "stdout",
     "output_type": "stream",
     "text": [
      "37i9dQZF1E4TYPiZry5xy7 => Your Time Capsule total: 55\n",
      "37i9dQZEVXcGQdhyyHxKrl => Discover Weekly total: 30\n",
      "05PKifng75HxFmpPzr96vZ => Concentración total: 26\n",
      "7nXoROYhDSEbXp10Wlt5Xd => Mis pistas de Shazam total: 204\n",
      "7iJaT9ZNmOfjUOvax5Tr5H => Punk total: 87\n",
      "37i9dQZF1DWTJ7xPn4vNaz => All Out 70s total: 82\n",
      "2X6z5kU0wMnKoar8i1RN6B => Stranger Things total: 16\n",
      "37i9dQZF1DXcfFAdW7ycEY => Nuestros 90s total: 51\n",
      "6boOvqrr8KmIK9J2oBvS2Y => Explosions In The Sky  total: 30\n",
      "37i9dQZF1DX2rVwh3lcWku => Bohemian Like You total: 50\n",
      "5D2tVIgVbgG8Asfn0XV9Tn => antiguas total: 63\n",
      "0V4fT2fj7VeHRxOUDhkkcO => Regueton y cumbia total: 271\n",
      "3IdxCfpLeuIEL3Fc2E39Bz => Tony Hawks Pro Skater 1-4 total: 222\n",
      "31YiacMBfg9uW2ztzK1qAs => Hangin' Out In The U.K total: 27\n",
      "3OK07Ts6uAS40k0LpOtIqW => Favoritas total: 422\n"
     ]
    }
   ],
   "source": [
    "#spotify:user:12124178452\n",
    "playlist = sp.user_playlists(user=user_id, limit=50)\n",
    "\n",
    "#print(playlist['items'][0])\n",
    "playlist_id = []\n",
    "\n",
    "for x in playlist['items']:\n",
    "    playlist_id.append(x['id'])\n",
    "    info ='{} => {} total: {}'.format(x['id'], x['name'], x['tracks']['total'])\n",
    "    print(info)\n",
    "    "
   ]
  },
  {
   "cell_type": "code",
   "execution_count": 4,
   "metadata": {},
   "outputs": [
    {
     "name": "stdout",
     "output_type": "stream",
     "text": [
      "error\n",
      "error\n",
      "error\n",
      "error\n",
      "error\n",
      "error\n",
      "error\n",
      "error\n",
      "1103\n"
     ]
    }
   ],
   "source": [
    "# arreglo con los detalles de las canciones\n",
    "features = []\n",
    "\n",
    "#para cada id obtengo las cacnciones y los detallesa\n",
    "for x in playlist_id:\n",
    "    try:\n",
    "        playlist = sp.user_playlist_tracks(user=user_id, playlist_id=x, limit=100)\n",
    "        songs = playlist[\"items\"]\n",
    "        ids = [] \n",
    "\n",
    "        for i in range(len(songs)): \n",
    "            ids.append(songs[i][\"track\"][\"id\"]) \n",
    "        features.extend(sp.audio_features(ids))\n",
    "        while playlist['next']:\n",
    "            ids = [] \n",
    "            playlist = sp.next(playlist)\n",
    "            songs = playlist[\"items\"]\n",
    "            for i in range(len(songs)): \n",
    "                ids.append(songs[i][\"track\"][\"id\"]) \n",
    "            features.extend(sp.audio_features(ids))\n",
    "    except Exception:\n",
    "        print('error')\n",
    "\n",
    "# imprimo el detalle de las canciones\n",
    "print(len(features))"
   ]
  },
  {
   "cell_type": "code",
   "execution_count": 5,
   "metadata": {},
   "outputs": [
    {
     "data": {
      "text/html": [
       "<div>\n",
       "<style>\n",
       "    .dataframe thead tr:only-child th {\n",
       "        text-align: right;\n",
       "    }\n",
       "\n",
       "    .dataframe thead th {\n",
       "        text-align: left;\n",
       "    }\n",
       "\n",
       "    .dataframe tbody tr th {\n",
       "        vertical-align: top;\n",
       "    }\n",
       "</style>\n",
       "<table border=\"1\" class=\"dataframe\">\n",
       "  <thead>\n",
       "    <tr style=\"text-align: right;\">\n",
       "      <th></th>\n",
       "      <th>acousticness</th>\n",
       "      <th>analysis_url</th>\n",
       "      <th>danceability</th>\n",
       "      <th>duration_ms</th>\n",
       "      <th>energy</th>\n",
       "      <th>id</th>\n",
       "      <th>instrumentalness</th>\n",
       "      <th>key</th>\n",
       "      <th>liveness</th>\n",
       "      <th>loudness</th>\n",
       "      <th>mode</th>\n",
       "      <th>speechiness</th>\n",
       "      <th>tempo</th>\n",
       "      <th>time_signature</th>\n",
       "      <th>track_href</th>\n",
       "      <th>type</th>\n",
       "      <th>uri</th>\n",
       "      <th>valence</th>\n",
       "    </tr>\n",
       "  </thead>\n",
       "  <tbody>\n",
       "    <tr>\n",
       "      <th>0</th>\n",
       "      <td>0.01360</td>\n",
       "      <td>https://api.spotify.com/v1/audio-analysis/1I04...</td>\n",
       "      <td>0.495</td>\n",
       "      <td>325532</td>\n",
       "      <td>0.789</td>\n",
       "      <td>1I04OEeE9kEy3bMzvsxqy9</td>\n",
       "      <td>0.08900</td>\n",
       "      <td>9</td>\n",
       "      <td>0.1230</td>\n",
       "      <td>-5.329</td>\n",
       "      <td>0</td>\n",
       "      <td>0.0300</td>\n",
       "      <td>139.983</td>\n",
       "      <td>4</td>\n",
       "      <td>https://api.spotify.com/v1/tracks/1I04OEeE9kEy...</td>\n",
       "      <td>audio_features</td>\n",
       "      <td>spotify:track:1I04OEeE9kEy3bMzvsxqy9</td>\n",
       "      <td>0.5060</td>\n",
       "    </tr>\n",
       "    <tr>\n",
       "      <th>1</th>\n",
       "      <td>0.08320</td>\n",
       "      <td>https://api.spotify.com/v1/audio-analysis/4H0C...</td>\n",
       "      <td>0.165</td>\n",
       "      <td>270619</td>\n",
       "      <td>0.971</td>\n",
       "      <td>4H0CwumsuT7kImRXAvsfma</td>\n",
       "      <td>0.56200</td>\n",
       "      <td>11</td>\n",
       "      <td>0.1250</td>\n",
       "      <td>-4.542</td>\n",
       "      <td>0</td>\n",
       "      <td>0.1420</td>\n",
       "      <td>175.516</td>\n",
       "      <td>4</td>\n",
       "      <td>https://api.spotify.com/v1/tracks/4H0CwumsuT7k...</td>\n",
       "      <td>audio_features</td>\n",
       "      <td>spotify:track:4H0CwumsuT7kImRXAvsfma</td>\n",
       "      <td>0.0497</td>\n",
       "    </tr>\n",
       "    <tr>\n",
       "      <th>2</th>\n",
       "      <td>0.00907</td>\n",
       "      <td>https://api.spotify.com/v1/audio-analysis/3iDK...</td>\n",
       "      <td>0.653</td>\n",
       "      <td>266347</td>\n",
       "      <td>0.818</td>\n",
       "      <td>3iDK8BAaBUatPR84gdfa9g</td>\n",
       "      <td>0.23000</td>\n",
       "      <td>5</td>\n",
       "      <td>0.0703</td>\n",
       "      <td>-8.125</td>\n",
       "      <td>1</td>\n",
       "      <td>0.0470</td>\n",
       "      <td>174.984</td>\n",
       "      <td>4</td>\n",
       "      <td>https://api.spotify.com/v1/tracks/3iDK8BAaBUat...</td>\n",
       "      <td>audio_features</td>\n",
       "      <td>spotify:track:3iDK8BAaBUatPR84gdfa9g</td>\n",
       "      <td>0.2160</td>\n",
       "    </tr>\n",
       "    <tr>\n",
       "      <th>3</th>\n",
       "      <td>0.02190</td>\n",
       "      <td>https://api.spotify.com/v1/audio-analysis/0O0M...</td>\n",
       "      <td>0.472</td>\n",
       "      <td>219027</td>\n",
       "      <td>0.690</td>\n",
       "      <td>0O0M44llUQuPdJAkROQRch</td>\n",
       "      <td>0.00000</td>\n",
       "      <td>9</td>\n",
       "      <td>0.0992</td>\n",
       "      <td>-8.092</td>\n",
       "      <td>0</td>\n",
       "      <td>0.0443</td>\n",
       "      <td>77.478</td>\n",
       "      <td>4</td>\n",
       "      <td>https://api.spotify.com/v1/tracks/0O0M44llUQuP...</td>\n",
       "      <td>audio_features</td>\n",
       "      <td>spotify:track:0O0M44llUQuPdJAkROQRch</td>\n",
       "      <td>0.5080</td>\n",
       "    </tr>\n",
       "    <tr>\n",
       "      <th>4</th>\n",
       "      <td>0.21900</td>\n",
       "      <td>https://api.spotify.com/v1/audio-analysis/6JNJ...</td>\n",
       "      <td>0.814</td>\n",
       "      <td>246440</td>\n",
       "      <td>0.686</td>\n",
       "      <td>6JNJERZGJwDVgkmbohBw7u</td>\n",
       "      <td>0.00386</td>\n",
       "      <td>6</td>\n",
       "      <td>0.1550</td>\n",
       "      <td>-12.172</td>\n",
       "      <td>0</td>\n",
       "      <td>0.0342</td>\n",
       "      <td>106.680</td>\n",
       "      <td>4</td>\n",
       "      <td>https://api.spotify.com/v1/tracks/6JNJERZGJwDV...</td>\n",
       "      <td>audio_features</td>\n",
       "      <td>spotify:track:6JNJERZGJwDVgkmbohBw7u</td>\n",
       "      <td>0.7640</td>\n",
       "    </tr>\n",
       "  </tbody>\n",
       "</table>\n",
       "</div>"
      ],
      "text/plain": [
       "   acousticness                                       analysis_url  \\\n",
       "0       0.01360  https://api.spotify.com/v1/audio-analysis/1I04...   \n",
       "1       0.08320  https://api.spotify.com/v1/audio-analysis/4H0C...   \n",
       "2       0.00907  https://api.spotify.com/v1/audio-analysis/3iDK...   \n",
       "3       0.02190  https://api.spotify.com/v1/audio-analysis/0O0M...   \n",
       "4       0.21900  https://api.spotify.com/v1/audio-analysis/6JNJ...   \n",
       "\n",
       "   danceability  duration_ms  energy                      id  \\\n",
       "0         0.495       325532   0.789  1I04OEeE9kEy3bMzvsxqy9   \n",
       "1         0.165       270619   0.971  4H0CwumsuT7kImRXAvsfma   \n",
       "2         0.653       266347   0.818  3iDK8BAaBUatPR84gdfa9g   \n",
       "3         0.472       219027   0.690  0O0M44llUQuPdJAkROQRch   \n",
       "4         0.814       246440   0.686  6JNJERZGJwDVgkmbohBw7u   \n",
       "\n",
       "   instrumentalness  key  liveness  loudness  mode  speechiness    tempo  \\\n",
       "0           0.08900    9    0.1230    -5.329     0       0.0300  139.983   \n",
       "1           0.56200   11    0.1250    -4.542     0       0.1420  175.516   \n",
       "2           0.23000    5    0.0703    -8.125     1       0.0470  174.984   \n",
       "3           0.00000    9    0.0992    -8.092     0       0.0443   77.478   \n",
       "4           0.00386    6    0.1550   -12.172     0       0.0342  106.680   \n",
       "\n",
       "   time_signature                                         track_href  \\\n",
       "0               4  https://api.spotify.com/v1/tracks/1I04OEeE9kEy...   \n",
       "1               4  https://api.spotify.com/v1/tracks/4H0CwumsuT7k...   \n",
       "2               4  https://api.spotify.com/v1/tracks/3iDK8BAaBUat...   \n",
       "3               4  https://api.spotify.com/v1/tracks/0O0M44llUQuP...   \n",
       "4               4  https://api.spotify.com/v1/tracks/6JNJERZGJwDV...   \n",
       "\n",
       "             type                                   uri  valence  \n",
       "0  audio_features  spotify:track:1I04OEeE9kEy3bMzvsxqy9   0.5060  \n",
       "1  audio_features  spotify:track:4H0CwumsuT7kImRXAvsfma   0.0497  \n",
       "2  audio_features  spotify:track:3iDK8BAaBUatPR84gdfa9g   0.2160  \n",
       "3  audio_features  spotify:track:0O0M44llUQuPdJAkROQRch   0.5080  \n",
       "4  audio_features  spotify:track:6JNJERZGJwDVgkmbohBw7u   0.7640  "
      ]
     },
     "execution_count": 5,
     "metadata": {},
     "output_type": "execute_result"
    }
   ],
   "source": [
    "df = pd.DataFrame(features)\n",
    "#https://api.spotify.com/v1/users/12124178452/playlists/3OK07Ts6uAS40k0LpOtIqW/tracks?offset=100&limit=100\n",
    "\n",
    "df.drop_duplicates(inplace=True)\n",
    "df.to_csv('data/audio_features.csv')\n",
    "df.head()\n"
   ]
  },
  {
   "cell_type": "code",
   "execution_count": 4,
   "metadata": {},
   "outputs": [
    {
     "name": "stdout",
     "output_type": "stream",
     "text": [
      "{'album': {'album_type': 'compilation', 'artists': [{'external_urls': {'spotify': 'https://open.spotify.com/artist/0LyfQWJT6nXafLPZqxe9Of'}, 'href': 'https://api.spotify.com/v1/artists/0LyfQWJT6nXafLPZqxe9Of', 'id': '0LyfQWJT6nXafLPZqxe9Of', 'name': '', 'type': 'artist', 'uri': 'spotify:artist:0LyfQWJT6nXafLPZqxe9Of'}], 'available_markets': [], 'external_urls': {'spotify': 'https://open.spotify.com/album/717UG2du6utFe7CdmpuUe3'}, 'href': 'https://api.spotify.com/v1/albums/717UG2du6utFe7CdmpuUe3', 'id': '717UG2du6utFe7CdmpuUe3', 'images': [], 'name': '', 'type': 'album', 'uri': 'spotify:album:717UG2du6utFe7CdmpuUe3'}, 'artists': [{'external_urls': {'spotify': 'https://open.spotify.com/artist/7npqy7rgdX2D3yfVyWExKo'}, 'href': 'https://api.spotify.com/v1/artists/7npqy7rgdX2D3yfVyWExKo', 'id': '7npqy7rgdX2D3yfVyWExKo', 'name': '', 'type': 'artist', 'uri': 'spotify:artist:7npqy7rgdX2D3yfVyWExKo'}, {'external_urls': {'spotify': 'https://open.spotify.com/artist/1xietQVw6iUIK01sfhmWSN'}, 'href': 'https://api.spotify.com/v1/artists/1xietQVw6iUIK01sfhmWSN', 'id': '1xietQVw6iUIK01sfhmWSN', 'name': '', 'type': 'artist', 'uri': 'spotify:artist:1xietQVw6iUIK01sfhmWSN'}], 'available_markets': [], 'disc_number': 1, 'duration_ms': 252773, 'explicit': False, 'external_ids': {}, 'external_urls': {'spotify': 'https://open.spotify.com/track/3VKFip3OdAvv4OfNTgFWeQ'}, 'href': 'https://api.spotify.com/v1/tracks/3VKFip3OdAvv4OfNTgFWeQ', 'id': '3VKFip3OdAvv4OfNTgFWeQ', 'name': '', 'popularity': 35, 'preview_url': None, 'track_number': 12, 'type': 'track', 'uri': 'spotify:track:3VKFip3OdAvv4OfNTgFWeQ'}\n"
     ]
    }
   ],
   "source": [
    "idP = '6JNJERZGJwDVgkmbohBw7u'\n",
    "idpp='3VKFip3OdAvv4OfNTgFWeQ'\n",
    "\n",
    "def getArtistName(id):\n",
    "    track = sp.track(id)\n",
    "    # ', '.join([str(x) for x in list]) \n",
    "    artists = track['album']['artists']\n",
    "    sa = ', '.join([str(x['name']) for x in artists])\n",
    "    return '{}| {}'.format(sa, track['name'])\n",
    "\n",
    "def getPopularity(id):\n",
    "    track = sp.track(id)\n",
    "    return track\n",
    "\n",
    "print(getPopularity(idpp))\n",
    "#print(getArtistName(idpp))"
   ]
  },
  {
   "cell_type": "code",
   "execution_count": null,
   "metadata": {
    "collapsed": true
   },
   "outputs": [],
   "source": [
    "#df['popularity'] = df.apply(lambda x: getPopularity(x.id), axis=1)\n",
    "df.head()\n"
   ]
  },
  {
   "cell_type": "code",
   "execution_count": 4,
   "metadata": {
    "collapsed": true
   },
   "outputs": [],
   "source": [
    "df = pd.read_csv('data/audio_features3.csv')\n",
    "df.drop('Unnamed: 0', axis=1, inplace=True)\n",
    "df.head()"
   ]
  },
  {
   "cell_type": "code",
   "execution_count": 11,
   "metadata": {},
   "outputs": [
    {
     "data": {
      "text/html": [
       "<div>\n",
       "<style>\n",
       "    .dataframe thead tr:only-child th {\n",
       "        text-align: right;\n",
       "    }\n",
       "\n",
       "    .dataframe thead th {\n",
       "        text-align: left;\n",
       "    }\n",
       "\n",
       "    .dataframe tbody tr th {\n",
       "        vertical-align: top;\n",
       "    }\n",
       "</style>\n",
       "<table border=\"1\" class=\"dataframe\">\n",
       "  <thead>\n",
       "    <tr style=\"text-align: right;\">\n",
       "      <th></th>\n",
       "      <th>acousticness</th>\n",
       "      <th>analysis_url</th>\n",
       "      <th>danceability</th>\n",
       "      <th>duration_ms</th>\n",
       "      <th>energy</th>\n",
       "      <th>id</th>\n",
       "      <th>instrumentalness</th>\n",
       "      <th>key</th>\n",
       "      <th>liveness</th>\n",
       "      <th>loudness</th>\n",
       "      <th>mode</th>\n",
       "      <th>speechiness</th>\n",
       "      <th>tempo</th>\n",
       "      <th>time_signature</th>\n",
       "      <th>track_href</th>\n",
       "      <th>type</th>\n",
       "      <th>uri</th>\n",
       "      <th>valence</th>\n",
       "      <th>popularity</th>\n",
       "      <th>name</th>\n",
       "    </tr>\n",
       "  </thead>\n",
       "  <tbody>\n",
       "    <tr>\n",
       "      <th>0</th>\n",
       "      <td>0.01360</td>\n",
       "      <td>https://api.spotify.com/v1/audio-analysis/1I04...</td>\n",
       "      <td>0.495</td>\n",
       "      <td>325532</td>\n",
       "      <td>0.789</td>\n",
       "      <td>1I04OEeE9kEy3bMzvsxqy9</td>\n",
       "      <td>0.08900</td>\n",
       "      <td>9</td>\n",
       "      <td>0.1230</td>\n",
       "      <td>-5.329</td>\n",
       "      <td>0</td>\n",
       "      <td>0.0300</td>\n",
       "      <td>139.983</td>\n",
       "      <td>4</td>\n",
       "      <td>https://api.spotify.com/v1/tracks/1I04OEeE9kEy...</td>\n",
       "      <td>audio_features</td>\n",
       "      <td>spotify:track:1I04OEeE9kEy3bMzvsxqy9</td>\n",
       "      <td>0.5060</td>\n",
       "      <td>17</td>\n",
       "      <td>Black Rivers| The Ship</td>\n",
       "    </tr>\n",
       "    <tr>\n",
       "      <th>1</th>\n",
       "      <td>0.08320</td>\n",
       "      <td>https://api.spotify.com/v1/audio-analysis/4H0C...</td>\n",
       "      <td>0.165</td>\n",
       "      <td>270619</td>\n",
       "      <td>0.971</td>\n",
       "      <td>4H0CwumsuT7kImRXAvsfma</td>\n",
       "      <td>0.56200</td>\n",
       "      <td>11</td>\n",
       "      <td>0.1250</td>\n",
       "      <td>-4.542</td>\n",
       "      <td>0</td>\n",
       "      <td>0.1420</td>\n",
       "      <td>175.516</td>\n",
       "      <td>4</td>\n",
       "      <td>https://api.spotify.com/v1/tracks/4H0CwumsuT7k...</td>\n",
       "      <td>audio_features</td>\n",
       "      <td>spotify:track:4H0CwumsuT7kImRXAvsfma</td>\n",
       "      <td>0.0497</td>\n",
       "      <td>34</td>\n",
       "      <td>Holograms| Monolith</td>\n",
       "    </tr>\n",
       "    <tr>\n",
       "      <th>2</th>\n",
       "      <td>0.00907</td>\n",
       "      <td>https://api.spotify.com/v1/audio-analysis/3iDK...</td>\n",
       "      <td>0.653</td>\n",
       "      <td>266347</td>\n",
       "      <td>0.818</td>\n",
       "      <td>3iDK8BAaBUatPR84gdfa9g</td>\n",
       "      <td>0.23000</td>\n",
       "      <td>5</td>\n",
       "      <td>0.0703</td>\n",
       "      <td>-8.125</td>\n",
       "      <td>1</td>\n",
       "      <td>0.0470</td>\n",
       "      <td>174.984</td>\n",
       "      <td>4</td>\n",
       "      <td>https://api.spotify.com/v1/tracks/3iDK8BAaBUat...</td>\n",
       "      <td>audio_features</td>\n",
       "      <td>spotify:track:3iDK8BAaBUatPR84gdfa9g</td>\n",
       "      <td>0.2160</td>\n",
       "      <td>65</td>\n",
       "      <td>The Postal Service| Such Great Heights</td>\n",
       "    </tr>\n",
       "    <tr>\n",
       "      <th>3</th>\n",
       "      <td>0.02190</td>\n",
       "      <td>https://api.spotify.com/v1/audio-analysis/0O0M...</td>\n",
       "      <td>0.472</td>\n",
       "      <td>219027</td>\n",
       "      <td>0.690</td>\n",
       "      <td>0O0M44llUQuPdJAkROQRch</td>\n",
       "      <td>0.00000</td>\n",
       "      <td>9</td>\n",
       "      <td>0.0992</td>\n",
       "      <td>-8.092</td>\n",
       "      <td>0</td>\n",
       "      <td>0.0443</td>\n",
       "      <td>77.478</td>\n",
       "      <td>4</td>\n",
       "      <td>https://api.spotify.com/v1/tracks/0O0M44llUQuP...</td>\n",
       "      <td>audio_features</td>\n",
       "      <td>spotify:track:0O0M44llUQuPdJAkROQRch</td>\n",
       "      <td>0.5080</td>\n",
       "      <td>66</td>\n",
       "      <td>Sticky Fingers| Australia Street</td>\n",
       "    </tr>\n",
       "    <tr>\n",
       "      <th>4</th>\n",
       "      <td>0.21900</td>\n",
       "      <td>https://api.spotify.com/v1/audio-analysis/6JNJ...</td>\n",
       "      <td>0.814</td>\n",
       "      <td>246440</td>\n",
       "      <td>0.686</td>\n",
       "      <td>6JNJERZGJwDVgkmbohBw7u</td>\n",
       "      <td>0.00386</td>\n",
       "      <td>6</td>\n",
       "      <td>0.1550</td>\n",
       "      <td>-12.172</td>\n",
       "      <td>0</td>\n",
       "      <td>0.0342</td>\n",
       "      <td>106.680</td>\n",
       "      <td>4</td>\n",
       "      <td>https://api.spotify.com/v1/tracks/6JNJERZGJwDV...</td>\n",
       "      <td>audio_features</td>\n",
       "      <td>spotify:track:6JNJERZGJwDVgkmbohBw7u</td>\n",
       "      <td>0.7640</td>\n",
       "      <td>65</td>\n",
       "      <td>Laura Branigan| Self Control</td>\n",
       "    </tr>\n",
       "  </tbody>\n",
       "</table>\n",
       "</div>"
      ],
      "text/plain": [
       "   acousticness                                       analysis_url  \\\n",
       "0       0.01360  https://api.spotify.com/v1/audio-analysis/1I04...   \n",
       "1       0.08320  https://api.spotify.com/v1/audio-analysis/4H0C...   \n",
       "2       0.00907  https://api.spotify.com/v1/audio-analysis/3iDK...   \n",
       "3       0.02190  https://api.spotify.com/v1/audio-analysis/0O0M...   \n",
       "4       0.21900  https://api.spotify.com/v1/audio-analysis/6JNJ...   \n",
       "\n",
       "   danceability  duration_ms  energy                      id  \\\n",
       "0         0.495       325532   0.789  1I04OEeE9kEy3bMzvsxqy9   \n",
       "1         0.165       270619   0.971  4H0CwumsuT7kImRXAvsfma   \n",
       "2         0.653       266347   0.818  3iDK8BAaBUatPR84gdfa9g   \n",
       "3         0.472       219027   0.690  0O0M44llUQuPdJAkROQRch   \n",
       "4         0.814       246440   0.686  6JNJERZGJwDVgkmbohBw7u   \n",
       "\n",
       "   instrumentalness  key  liveness  loudness  mode  speechiness    tempo  \\\n",
       "0           0.08900    9    0.1230    -5.329     0       0.0300  139.983   \n",
       "1           0.56200   11    0.1250    -4.542     0       0.1420  175.516   \n",
       "2           0.23000    5    0.0703    -8.125     1       0.0470  174.984   \n",
       "3           0.00000    9    0.0992    -8.092     0       0.0443   77.478   \n",
       "4           0.00386    6    0.1550   -12.172     0       0.0342  106.680   \n",
       "\n",
       "   time_signature                                         track_href  \\\n",
       "0               4  https://api.spotify.com/v1/tracks/1I04OEeE9kEy...   \n",
       "1               4  https://api.spotify.com/v1/tracks/4H0CwumsuT7k...   \n",
       "2               4  https://api.spotify.com/v1/tracks/3iDK8BAaBUat...   \n",
       "3               4  https://api.spotify.com/v1/tracks/0O0M44llUQuP...   \n",
       "4               4  https://api.spotify.com/v1/tracks/6JNJERZGJwDV...   \n",
       "\n",
       "             type                                   uri  valence  popularity  \\\n",
       "0  audio_features  spotify:track:1I04OEeE9kEy3bMzvsxqy9   0.5060          17   \n",
       "1  audio_features  spotify:track:4H0CwumsuT7kImRXAvsfma   0.0497          34   \n",
       "2  audio_features  spotify:track:3iDK8BAaBUatPR84gdfa9g   0.2160          65   \n",
       "3  audio_features  spotify:track:0O0M44llUQuPdJAkROQRch   0.5080          66   \n",
       "4  audio_features  spotify:track:6JNJERZGJwDVgkmbohBw7u   0.7640          65   \n",
       "\n",
       "                                     name  \n",
       "0                  Black Rivers| The Ship  \n",
       "1                     Holograms| Monolith  \n",
       "2  The Postal Service| Such Great Heights  \n",
       "3        Sticky Fingers| Australia Street  \n",
       "4            Laura Branigan| Self Control  "
      ]
     },
     "execution_count": 11,
     "metadata": {},
     "output_type": "execute_result"
    }
   ],
   "source": [
    "df['name'] = df.apply(lambda x: getArtistName(x['id']), axis=1)\n",
    "df.head()"
   ]
  },
  {
   "cell_type": "code",
   "execution_count": 12,
   "metadata": {
    "collapsed": true
   },
   "outputs": [],
   "source": [
    "df.to_csv('data/audio_features3.csv')"
   ]
  },
  {
   "cell_type": "code",
   "execution_count": 54,
   "metadata": {},
   "outputs": [
    {
     "name": "stdout",
     "output_type": "stream",
     "text": [
      "La más alegre: El Empuje - Nos Estan Buscando\n",
      "La más triste: Los Muertos de Cristo - A las Barricadas - En Directo (Santiago de Chile)\n"
     ]
    }
   ],
   "source": [
    "max_valence = df.valence.max()\n",
    "\n",
    "max_valence = df[df['valence']==max_valence]\n",
    "\n",
    "max_valence_track = sp.track(track_id=max_valence.id.iloc[0])\n",
    "info = 'La más alegre: {} - {}'.format(max_valence_track['artists'][0]['name'], max_valence_track['name'])\n",
    "print(info)\n",
    "\n",
    "min_valence = df.valence.min()\n",
    "min_valence_track = df[df['valence'] == min_valence]\n",
    "\n",
    "min_valence_track = sp.track(track_id=min_valence_track.id.iloc[0])\n",
    "info = 'La más triste: {} - {}'.format(min_valence_track['artists'][0]['name'], min_valence_track['name'])\n",
    "print(info)"
   ]
  },
  {
   "cell_type": "code",
   "execution_count": 55,
   "metadata": {},
   "outputs": [
    {
     "data": {
      "text/plain": [
       "<matplotlib.axes._subplots.AxesSubplot at 0x7f082b1e8c18>"
      ]
     },
     "execution_count": 55,
     "metadata": {},
     "output_type": "execute_result"
    },
    {
     "data": {
      "image/png": "[encoded data removed]",
      "text/plain": [
       "<matplotlib.figure.Figure at 0x7f082b18a6d8>"
      ]
     },
     "metadata": {},
     "output_type": "display_data"
    }
   ],
   "source": [
    "sb.distplot(df.valence)"
   ]
  },
  {
   "cell_type": "code",
   "execution_count": 56,
   "metadata": {},
   "outputs": [
    {
     "data": {
      "text/plain": [
       "<matplotlib.axes._subplots.AxesSubplot at 0x7f0827c42d68>"
      ]
     },
     "execution_count": 56,
     "metadata": {},
     "output_type": "execute_result"
    },
    {
     "data": {
      "image/png": "[encoded data removed]",
      "text/plain": [
       "<matplotlib.figure.Figure at 0x7f0827c2d3c8>"
      ]
     },
     "metadata": {},
     "output_type": "display_data"
    }
   ],
   "source": [
    "sb.distplot(df.danceability)"
   ]
  },
  {
   "cell_type": "code",
   "execution_count": 57,
   "metadata": {},
   "outputs": [
    {
     "name": "stdout",
     "output_type": "stream",
     "text": [
      "La más bailable: Daft Punk - Around The World\n",
      "La menos bailable: Deftones - Please Please Please Let Me Get What I Want\n"
     ]
    }
   ],
   "source": [
    "max_dance = df.danceability.max()\n",
    "max_dance_track = df[df['danceability']==max_dance]\n",
    "\n",
    "max_valence_track = sp.track(track_id=max_dance_track.id.iloc[0])\n",
    "info = 'La más bailable: {} - {}'.format(max_valence_track['artists'][0]['name'], max_valence_track['name'])\n",
    "print(info)\n",
    "\n",
    "\n",
    "min_dance = df.danceability.min()\n",
    "min_dance_track = df[df['danceability']==min_dance]\n",
    "\n",
    "min_valence_track = sp.track(track_id=min_dance_track.id.iloc[0])\n",
    "info = 'La menos bailable: {} - {}'.format(min_valence_track['artists'][0]['name'], min_valence_track['name'])\n",
    "print(info)"
   ]
  }
 ],
 "metadata": {
  "kernelspec": {
   "display_name": "Python 3",
   "language": "python",
   "name": "python3"
  },
  "language_info": {
   "codemirror_mode": {
    "name": "ipython",
    "version": 3
   },
   "file_extension": ".py",
   "mimetype": "text/x-python",
   "name": "python",
   "nbconvert_exporter": "python",
   "pygments_lexer": "ipython3",
   "version": "3.6.2"
  }
 },
 "nbformat": 4,
 "nbformat_minor": 2
}
