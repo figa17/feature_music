{
 "cells": [
  {
   "cell_type": "code",
   "execution_count": null,
   "metadata": {
    "collapsed": false,
    "deletable": true,
    "editable": true
   },
   "outputs": [],
   "source": [
    "import pandas as pd \n",
    "import spotipy \n",
    "import spotipy.util as sp_util\n",
    "from spotipy.oauth2 import SpotifyClientCredentials \n",
    "import seaborn as sb\n",
    "from dotenv import load_dotenv\n",
    "from os.path import join, dirname\n",
    "import os\n",
    "\n",
    "%matplotlib inline\n",
    "dotenv_path = '.env'\n",
    "load_dotenv(dotenv_path)\n",
    "\n",
    "cid = os.environ.get(\"cid\")\n",
    "secret = os.environ.get(\"secret\")\n",
    "user_id= os.environ.get(\"user_id\")"
   ]
  },
  {
   "cell_type": "code",
   "execution_count": null,
   "metadata": {
    "collapsed": false,
    "deletable": true,
    "editable": true
   },
   "outputs": [],
   "source": [
    "sp = spotipy.Spotify() \n",
    "client_credentials_manager = SpotifyClientCredentials(client_id=cid, client_secret=secret,) \n",
    "sp = spotipy.Spotify(client_credentials_manager=client_credentials_manager) \n",
    "sp.trace=False "
   ]
  },
  {
   "cell_type": "code",
   "execution_count": null,
   "metadata": {
    "collapsed": false,
    "deletable": true,
    "editable": true
   },
   "outputs": [],
   "source": [
    "#spotify:user:12124178452\n",
    "playlist = sp.user_playlists(user=user_id, limit=50)\n",
    "\n",
    "#print(playlist['items'][0])\n",
    "playlist_id = []\n",
    "\n",
    "for x in playlist['items']:\n",
    "    playlist_id.append(x['id'])\n",
    "    info ='{} => {} total: {}'.format(x['id'], x['name'], x['tracks']['total'])\n",
    "    print(info)\n",
    "    "
   ]
  },
  {
   "cell_type": "code",
   "execution_count": null,
   "metadata": {
    "collapsed": false
   },
   "outputs": [],
   "source": [
    "# arreglo con los detalles de las canciones\n",
    "features = []\n",
    "\n",
    "#para cada id obtengo las cacnciones y los detallesa\n",
    "for x in playlist_id:\n",
    "    try:\n",
    "        playlist = sp.user_playlist_tracks(user=user_id, playlist_id=x, limit=100)\n",
    "        songs = playlist[\"items\"]\n",
    "        ids = [] \n",
    "\n",
    "        for i in range(len(songs)): \n",
    "            ids.append(songs[i][\"track\"][\"id\"]) \n",
    "        features.extend(sp.audio_features(ids))\n",
    "        while playlist['next']:\n",
    "            ids = [] \n",
    "            playlist = sp.next(playlist)\n",
    "            songs = playlist[\"items\"]\n",
    "            for i in range(len(songs)): \n",
    "                ids.append(songs[i][\"track\"][\"id\"]) \n",
    "            features.extend(sp.audio_features(ids))\n",
    "    except Exception:\n",
    "        print('error')\n",
    "\n",
    "# imprimo el detalle de las canciones\n",
    "print(len(features))"
   ]
  },
  {
   "cell_type": "code",
   "execution_count": null,
   "metadata": {
    "collapsed": false,
    "deletable": true,
    "editable": true
   },
   "outputs": [],
   "source": [
    "df = pd.DataFrame(features)\n",
    "#https://api.spotify.com/v1/users/12124178452/playlists/3OK07Ts6uAS40k0LpOtIqW/tracks?offset=100&limit=100\n",
    "\n",
    "df.drop_duplicates(inplace=True)\n",
    "df.to_csv('audio_features.csv')\n",
    "df.head()\n"
   ]
  },
  {
   "cell_type": "code",
   "execution_count": null,
   "metadata": {
    "collapsed": false,
    "deletable": true,
    "editable": true
   },
   "outputs": [],
   "source": [
    "max_valence = df.valence.max()\n",
    "\n",
    "max_valence = df[df['valence']==max_valence]\n",
    "\n",
    "max_valence_track = sp.track(track_id=max_valence.id.iloc[0])\n",
    "info = 'La más alegre: {} - {}'.format(max_valence_track['artists'][0]['name'], max_valence_track['name'])\n",
    "print(info)\n",
    "\n",
    "min_valence = df.valence.min()\n",
    "min_valence_track = df[df['valence'] == min_valence]\n",
    "\n",
    "min_valence_track = sp.track(track_id=min_valence_track.id.iloc[0])\n",
    "info = 'La más triste: {} - {}'.format(min_valence_track['artists'][0]['name'], min_valence_track['name'])\n",
    "print(info)"
   ]
  },
  {
   "cell_type": "code",
   "execution_count": null,
   "metadata": {
    "collapsed": false,
    "deletable": true,
    "editable": true
   },
   "outputs": [],
   "source": [
    "sb.distplot(df.valence)"
   ]
  },
  {
   "cell_type": "code",
   "execution_count": null,
   "metadata": {
    "collapsed": false
   },
   "outputs": [],
   "source": [
    "sb.distplot(df.danceability)"
   ]
  },
  {
   "cell_type": "code",
   "execution_count": null,
   "metadata": {
    "collapsed": false
   },
   "outputs": [],
   "source": [
    "max_dance = df.danceability.max()\n",
    "max_dance_track = df[df['danceability']==max_dance]\n",
    "\n",
    "max_valence_track = sp.track(track_id=max_dance_track.id.iloc[0])\n",
    "info = 'La más bailable: {} - {}'.format(max_valence_track['artists'][0]['name'], max_valence_track['name'])\n",
    "print(info)\n",
    "\n",
    "\n",
    "min_dance = df.danceability.min()\n",
    "min_dance_track = df[df['danceability']==min_dance]\n",
    "\n",
    "min_valence_track = sp.track(track_id=min_dance_track.id.iloc[0])\n",
    "info = 'La menos bailable: {} - {}'.format(min_valence_track['artists'][0]['name'], min_valence_track['name'])\n",
    "print(info)"
   ]
  }
 ],
 "metadata": {
  "kernelspec": {
   "display_name": "Python 3",
   "language": "python",
   "name": "python3"
  },
  "language_info": {
   "codemirror_mode": {
    "name": "ipython",
    "version": 3
   },
   "file_extension": ".py",
   "mimetype": "text/x-python",
   "name": "python",
   "nbconvert_exporter": "python",
   "pygments_lexer": "ipython3",
   "version": "3.5.3"
  }
 },
 "nbformat": 4,
 "nbformat_minor": 2
}
